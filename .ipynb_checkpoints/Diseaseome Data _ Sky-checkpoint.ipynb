{
 "cells": [
  {
   "cell_type": "markdown",
   "metadata": {},
   "source": [
    "# Diseaseome Data General Analysis and Visualizations"
   ]
  },
  {
   "cell_type": "markdown",
   "metadata": {},
   "source": [
    "### Import neccesary libraries"
   ]
  },
  {
   "cell_type": "code",
   "execution_count": 1,
   "metadata": {},
   "outputs": [],
   "source": [
    "import networkx as nx\n",
    "import pandas as pd\n",
    "import matplotlib.pylab as plt\n",
    "import numpy as np\n",
    "from random import randint\n",
    "from matplotlib.lines import Line2D\n",
    "from matplotlib.patches import Patch\n",
    "#https://www.pnas.org/content/104/21/8685/tab-figures-data"
   ]
  },
  {
   "cell_type": "markdown",
   "metadata": {},
   "source": [
    "### General Network Analysis Function Definitions"
   ]
  },
  {
   "cell_type": "code",
   "execution_count": 2,
   "metadata": {},
   "outputs": [],
   "source": [
    "### GENERAL NETWORK ANALYSIS FUNCTIONS\n",
    "\n",
    "def plotDegsCCDF(Go): #Plots CCDF of degrees given a network\n",
    "    degrees = Go.degree()\n",
    "    kmax    = 0\n",
    "    kis     = []\n",
    "    # tabulate and display the CCDF Pr(K>=k)\n",
    "    for _,ki in degrees:\n",
    "        kis.append(ki)\n",
    "        if ki > kmax: kmax = ki\n",
    "\n",
    "    counts, bins = np.histogram(kis, bins=[i for i in range(kmax+2)], density=True)\n",
    "    cumcounts = np.cumsum(counts)\n",
    "    cumcounts = np.insert(cumcounts,0,0)\n",
    "    plt.loglog(bins[1:-1], 1-cumcounts[1:-1], 'rs', alpha=0.5)\n",
    "    plt.xlabel('Degree, k')\n",
    "    plt.ylabel('Pr(K>=k)')\n",
    "    plt.show()\n",
    "    return\n",
    "\n",
    "def calculateMeanGeodesic(Go):\n",
    "    n = Go.number_of_nodes()#function for number of nodes\n",
    "    m = Go.size() #function for number of edges\n",
    "\n",
    "    dij = dict(nx.all_pairs_shortest_path_length(Go)) # APSP on G, store as a dictionary (tricky :)\n",
    "    mean_geo_path_per_Node = [] # store average path length from any given nodes\n",
    "    for i in dij.values(): #iterate through each dict of shortest pathes per node\n",
    "        node = []\n",
    "        for x in i.values(): #iterate through shortest pathes for each node\n",
    "            if x != 0: # if path length doesn't equal zero then append to shortest pathes\n",
    "                node.append(x)\n",
    "        if len(node)!=0: #if node has any nodes attached then find the mean shortest path and add to list of all nodes\n",
    "            mean_geo_path_per_Node.append(np.mean(node))\n",
    "    ellmean = np.mean(mean_geo_path_per_Node)#add mean of graph to ellms array\n",
    "    return ellmean\n",
    "\n",
    "def summaryStats(Go):\n",
    "    n = Go.number_of_nodes()#function for number of nodes\n",
    "    m = Go.size() #function for number of edges\n",
    "    kmean = m*2/n #mean of in directed degree is edges/number of nodes\n",
    "    ellmean = calculate_MeanGeodesic(Go)\n",
    "    C = nx.transitivity(Go)# C \n",
    "\n",
    "    print(f'number of nodes, n  = {n}')\n",
    "    print(f'number of edges, m  = {m}')\n",
    "    print(f'mean degree,    <k> = %5.2f' % kmean)\n",
    "    print(f'mean geodesic distance, <ell> = %5.2f' % ellmean)\n",
    "    print(f'clustering coefficient, C     = %5.2f' % C)"
   ]
  },
  {
   "cell_type": "markdown",
   "metadata": {},
   "source": [
    "### Network Editing  Function Definitions"
   ]
  },
  {
   "cell_type": "code",
   "execution_count": 15,
   "metadata": {},
   "outputs": [],
   "source": [
    "# CUSTOM FUNCTIONS FOR DISEASOME DATA \n",
    "\n",
    "# seperateType: takes a bipartite network and takes projects it given a type ('gene' or 'disease' in our case)\n",
    "def seperateType(Go, IsolateType): # seperate bipartite graph into projections\n",
    "    G_new = nx.Graph() #make new graph\n",
    "    \n",
    "    for i in Go.nodes(): #create edge between i and p, where p is the nodes that i -> other group -> p\n",
    "        if Go.node[i]['Type'] == IsolateType: #if type we want\n",
    "            \n",
    "            neighbors = list(Go.neighbors(i))#make list of neighbors\n",
    "            compression = len(neighbors)#store the amount of original neighbors and store as attribute\n",
    "            G_new.add_node(i, Type = Go.node[i]['Type'], Class = Go.node[i]['Class'], \n",
    "                                                           Compressed_Neighbors = compression)\n",
    "            add = {} #before adding second neighbors store the amount of shared (genes or diseases)\n",
    "            \n",
    "            for neighbor in neighbors: #For each neighbor find second neighbors\n",
    "                for second_neighbor in list(Go.neighbors(neighbor)):\n",
    "                    \n",
    "                    if second_neighbor in add: #already shared gene so increment\n",
    "                        add[second_neighbor] = add[second_neighbor] + 1\n",
    "                        \n",
    "                    else:\n",
    "                        add[second_neighbor] = 1 #first time seeing this (gene/disease) so add common connections 1\n",
    "            \n",
    "            for key, value in add.items(): #now go through and add edges with found wieghts\n",
    "                if i != key: #No self loops :P\n",
    "                    G_new.add_edge(i, key, weight = value)\n",
    "            \n",
    "    return G_new #return 1-partite graph\n",
    "    \n",
    "# removeSingletons: given a graph return a copy of it without the singletons\n",
    "def removeSingletons(Go): #this function is to make a new graph without singletons located in input graph\n",
    "    G_new = Go.copy()\n",
    "    for i in Go.nodes():\n",
    "        if G_new.degree(i) == 0: #for every node that has degree 0 delete\n",
    "            G_new.remove_node(i)\n",
    "    return G_new\n",
    "\n",
    "# largestComponent\n",
    "def largestComponent(Go, bipartite = True): #return a largest subset graph of GO\n",
    "    G_new = nx.Graph() #new graph\n",
    "    \n",
    "    #find LCC and assume it is contained in largest connected subgraph\n",
    "    max_i = 0\n",
    "    max_deg = 0\n",
    "    for i,j in Go.degree():\n",
    "        if j > max_deg:\n",
    "            max_deg = j\n",
    "            max_i = i\n",
    "        \n",
    "    #store explored and unexplored nodes\n",
    "    unexplored_nodes = [max_i]\n",
    "    current = unexplored_nodes[0]\n",
    "    explored_nodes = []\n",
    "    if not bipartite:\n",
    "        G_new.add_node(current, Type = Go.node[current]['Type'], Class = Go.node[current]['Class'], Compressed_Neighbors = Go.node[current]['Compressed_Neighbors'])\n",
    "    else:\n",
    "        G_new.add_node(current, Type = Go.node[current]['Type'], Class = Go.node[current]['Class'])\n",
    "\n",
    "    while len(unexplored_nodes) > 0:\n",
    "        # go to front of queue and explore node 0\n",
    "        current = unexplored_nodes[0] \n",
    "        nieghbors = list(Go.neighbors(current))\n",
    "        for i in nieghbors:# go through neighbors depthfirst and build subgraph\n",
    "            if i not in unexplored_nodes and i not in explored_nodes:\n",
    "                unexplored_nodes.append(i)\n",
    "                if not bipartite:\n",
    "                    G_new.add_node(i, Type = Go.node[i]['Type'], Class = Go.node[i]['Class'], Compressed_Neighbors = Go.node[i]['Compressed_Neighbors'])\n",
    "                else:\n",
    "                    G_new.add_node(i, Type = Go.node[i]['Type'], Class = Go.node[i]['Class'])\n",
    "                G_new.add_edge(current, i)\n",
    "                \n",
    "        unexplored_nodes.remove(current) #delete from unexplored\n",
    "        explored_nodes.append(current) #add to explored\n",
    "                               \n",
    "    return G_new\n"
   ]
  },
  {
   "cell_type": "markdown",
   "metadata": {},
   "source": [
    "### Diseasome Plot/Visualization Function Definition"
   ]
  },
  {
   "cell_type": "code",
   "execution_count": 4,
   "metadata": {},
   "outputs": [],
   "source": [
    "# plotGraph: layout graph to show structure and imitate https://www.pnas.org/content/104/21/8685\n",
    "def plotGraph(Graph, ColorBy, all_connected = False): #node_size = True,\n",
    " \n",
    "    # Initialize figure\n",
    "    plt.figure(figsize=(15,15))\n",
    "    \n",
    "    # Use spring_layout if not connected, this is because kamada will overlap unconnected sections\n",
    "    if all_connected:\n",
    "        pos = nx.kamada_kawai_layout(Graph)\n",
    "    else:\n",
    "        pos = nx.spring_layout(Graph, seed = 1, weight = \"weight\", k= 1/Graph.size()**0.3, iterations = 100)\n",
    "    \n",
    "    # Define colors for given category\n",
    "    if ColorBy == \"Type\":\n",
    "        color = {'disease':'#7497bc','gene':'#e78c61'}\n",
    "        \n",
    "    elif ColorBy == \"Class\" :\n",
    "        color = {'Neurological' : \"#e6194B\",\n",
    "                 'Cancer' : \"#3cb44b\",\n",
    "                 'Ophthamological' : \"#ffe119\",\n",
    "                 'Renal' : \"#4363d8\",\n",
    "                 'Metabolic' : \"#f58231\",\n",
    "                 'Cardiovascular' : \"#911eb4\",\n",
    "                 'Ear,Nose,Throat' : \"#42d4f4\",\n",
    "                 'multiple' : \"#a9a9a9\",\n",
    "                 'Hematological' : \"#bfef45\",\n",
    "                 'Gastrointestinal' : \"#fabebe\",\n",
    "                 'Immunological' : \"#469990\",\n",
    "                 'Respiratory' : \"#e6beff\",\n",
    "                 'Psychiatric' : \"#9A6324\",\n",
    "                 'Connective tissue disorder' : \"#fffac8\",\n",
    "                 'Muscular' : \"#800000\",\n",
    "                 'Nutritional' : \"#aaffc3\",\n",
    "                 'Dermatological' : \"#808000\",\n",
    "                 'Unclassified' : \"#DCDCDC\",\n",
    "                 'Endocrine' : \"#000075\",\n",
    "                 'Skeletal' : \"#f032e6\",\n",
    "                 'Developmental' : \"#013220\",\n",
    "                 'Bone' : \"#ffd8b1\",\n",
    "                 'Connective tissue' : \"#2F4F4F\"}\n",
    "\n",
    "\n",
    "    # segment nodes into their class so plot at the same time with labels for legend\n",
    "    seg_nodes = {}\n",
    "    # create dictionary with keys being Class and values being list of nodes in class\n",
    "    for i in Graph.nodes():\n",
    "        if Graph.node[i][ColorBy] not in seg_nodes: #if class has yet to be seen\n",
    "            seg_nodes[Graph.node[i][ColorBy]] = [i]\n",
    "        else:\n",
    "            seg_nodes[Graph.node[i][ColorBy]].append(i) #if class is already in dict\n",
    "    \n",
    "#     for key, value in seg_nodes.items(): #go through each class and plot with label and color\n",
    "#         nx.draw_networkx_nodes(Graph, pos = pos, nodelist = value, node_color = color[key], label = key, node_size = 15)\n",
    "    \n",
    "    \n",
    "    nx.draw_spring(Graph, node_size = [Graph.node[i][\"Compressed_Neighbors\"]**1.25+15 for i in Graph.nodes()], node_color = [color[Graph.node[i][ColorBy]] for i in Graph.nodes()],\n",
    "                            k= 1/Graph.size()**0.3, iterations = 100, seed = 1, weight = \"weight\")\n",
    "    \n",
    "    # Attempt at including node size...\n",
    "    #     sizes = []\n",
    "    #     colors = []\n",
    "    #     labels = []\n",
    "    #     for i in Graph.nodes():        \n",
    "    #         sizes.append(Graph.node[i]['Compressed_Neighbors'])\n",
    "    #         colors.append(color[Graph.node[i][ColorBy]])\n",
    "    #         labels.append(Graph.node[i][ColorBy])\n",
    "    #     nx.draw_networkx_nodes(Graph, pos = pos, node_color = colors, node_size = sizes)\n",
    "\n",
    "    #draw them edges\n",
    "#     nx.draw_networkx_edges(Graph,pos=pos, alpha=0.5)\n",
    "    \n",
    "    legend_elements = [Line2D([0], [0], marker='o', color='w', label=key,\n",
    "                          markerfacecolor=value, markersize=15) for key, value in color.items()]\n",
    "    #plot it\n",
    "    plt.legend(handles=legend_elements, loc =\"best\")\n",
    "    plt.axis('off')\n",
    "    plt.show()"
   ]
  },
  {
   "cell_type": "markdown",
   "metadata": {},
   "source": [
    "### Retrieving Omim Data"
   ]
  },
  {
   "cell_type": "code",
   "execution_count": 6,
   "metadata": {},
   "outputs": [],
   "source": [
    "df_omim = pd.read_csv(\"morbidmap.txt\",sep='\\t')\n",
    "\n",
    "# Retrieve condensed data set\n",
    "\n",
    "# Spinal muscular atrophy-1, 253300 (3)\n",
    "# Spinal muscular atrophy-2, 253550 (3)\n",
    "# Spinal muscular atrophy-3, 253400 (3)\n",
    "# Spinal muscular atrophy-4, 271150 (3)\n",
    "# return Spinal muscular atrophy\n",
    "\n",
    "# Spinocerebellar ataxia 1, 164400 (3)\n",
    "# Spinocerebellar ataxia 10, 603516 (3)\n",
    "# Spinocerebellar ataxia 11, 604432 (3)\n",
    "# Spinocerebellar ataxia 12, 604326 (3)\n",
    "# return Spinocerebellar ataxia\n",
    "\n",
    "prev = \"\"\n",
    "diseaseNumber = 10000\n",
    "diseaseList = []\n",
    "\n",
    "for index, row in df_omim.iterrows():\n",
    "    if prev == \"\":\n",
    "        prev = row[\"# Phenotype\"].split(\" \")\n",
    "        diseaseList.append(diseaseNumber)\n",
    "    else:\n",
    "        current = row[\"# Phenotype\"].split(\" \")\n",
    "        if current[0] == prev[0]:\n",
    "            diseaseList.append(diseaseNumber)\n",
    "        else:\n",
    "            diseaseNumber = diseaseNumber + 1\n",
    "            diseaseList.append(diseaseNumber)\n",
    "        prev = current\n",
    "\n",
    "df_omim[\"# Disease ID\"] = diseaseList"
   ]
  },
  {
   "cell_type": "code",
   "execution_count": 7,
   "metadata": {},
   "outputs": [
    {
     "data": {
      "text/html": [
       "<div>\n",
       "<style scoped>\n",
       "    .dataframe tbody tr th:only-of-type {\n",
       "        vertical-align: middle;\n",
       "    }\n",
       "\n",
       "    .dataframe tbody tr th {\n",
       "        vertical-align: top;\n",
       "    }\n",
       "\n",
       "    .dataframe thead th {\n",
       "        text-align: right;\n",
       "    }\n",
       "</style>\n",
       "<table border=\"1\" class=\"dataframe\">\n",
       "  <thead>\n",
       "    <tr style=\"text-align: right;\">\n",
       "      <th></th>\n",
       "      <th># Phenotype</th>\n",
       "      <th>Gene Symbols</th>\n",
       "      <th>MIM Number</th>\n",
       "      <th>Cyto Location</th>\n",
       "      <th># Disease ID</th>\n",
       "    </tr>\n",
       "  </thead>\n",
       "  <tbody>\n",
       "    <tr>\n",
       "      <th>0</th>\n",
       "      <td>17,20-lyase deficiency, isolated, 202110 (3)</td>\n",
       "      <td>CYP17A1, CYP17, P450C17</td>\n",
       "      <td>609300</td>\n",
       "      <td>10q24.32</td>\n",
       "      <td>10000</td>\n",
       "    </tr>\n",
       "    <tr>\n",
       "      <th>1</th>\n",
       "      <td>17-alpha-hydroxylase/17,20-lyase deficiency, 2...</td>\n",
       "      <td>CYP17A1, CYP17, P450C17</td>\n",
       "      <td>609300</td>\n",
       "      <td>10q24.32</td>\n",
       "      <td>10001</td>\n",
       "    </tr>\n",
       "    <tr>\n",
       "      <th>2</th>\n",
       "      <td>2-aminoadipic 2-oxoadipic aciduria, 204750 (3)</td>\n",
       "      <td>DHTKD1, KIAA1630, AMOXAD, CMT2Q</td>\n",
       "      <td>614984</td>\n",
       "      <td>10p14</td>\n",
       "      <td>10002</td>\n",
       "    </tr>\n",
       "    <tr>\n",
       "      <th>3</th>\n",
       "      <td>2-methylbutyrylglycinuria, 610006 (3)</td>\n",
       "      <td>ACADSB, SBCAD</td>\n",
       "      <td>600301</td>\n",
       "      <td>10q26.13</td>\n",
       "      <td>10003</td>\n",
       "    </tr>\n",
       "    <tr>\n",
       "      <th>4</th>\n",
       "      <td>3-M syndrome 1, 273750 (3)</td>\n",
       "      <td>CUL7, 3M1</td>\n",
       "      <td>609577</td>\n",
       "      <td>6p21.1</td>\n",
       "      <td>10004</td>\n",
       "    </tr>\n",
       "  </tbody>\n",
       "</table>\n",
       "</div>"
      ],
      "text/plain": [
       "                                         # Phenotype  \\\n",
       "0       17,20-lyase deficiency, isolated, 202110 (3)   \n",
       "1  17-alpha-hydroxylase/17,20-lyase deficiency, 2...   \n",
       "2     2-aminoadipic 2-oxoadipic aciduria, 204750 (3)   \n",
       "3              2-methylbutyrylglycinuria, 610006 (3)   \n",
       "4                         3-M syndrome 1, 273750 (3)   \n",
       "\n",
       "                      Gene Symbols  MIM Number Cyto Location  # Disease ID  \n",
       "0          CYP17A1, CYP17, P450C17      609300      10q24.32         10000  \n",
       "1          CYP17A1, CYP17, P450C17      609300      10q24.32         10001  \n",
       "2  DHTKD1, KIAA1630, AMOXAD, CMT2Q      614984         10p14         10002  \n",
       "3                    ACADSB, SBCAD      600301      10q26.13         10003  \n",
       "4                        CUL7, 3M1      609577        6p21.1         10004  "
      ]
     },
     "execution_count": 7,
     "metadata": {},
     "output_type": "execute_result"
    }
   ],
   "source": [
    "df_omim.head()"
   ]
  },
  {
   "cell_type": "markdown",
   "metadata": {},
   "source": [
    "### Retrieving Diseaseome Data"
   ]
  },
  {
   "cell_type": "code",
   "execution_count": 25,
   "metadata": {},
   "outputs": [],
   "source": [
    "# read in diseaseome dataset\n",
    "df = pd.read_csv(\"Diseaseome.csv\",sep=',')\n",
    "# Retrieved from https://www.pnas.org/content/104/21/8685\n",
    "\n",
    "G = nx.Graph()\n",
    "for index, row in df.iterrows():\n",
    "    G.add_node(row['Disorder name'], Type='disease', Class = row['Class'])\n",
    "    for i in row['Gene symbols'].split(\", \"):\n",
    "        if not G.has_node(i):\n",
    "            G.add_node(i, Type = 'gene', Class = row['Class'])\n",
    "            \n",
    "        if G.node[i]['Class'] != row['Class']:\n",
    "            G.node[i]['Class'] = \"multiple\"\n",
    "            \n",
    "        G.add_edge(row['# Disease ID'], i)\n",
    "        "
   ]
  },
  {
   "cell_type": "code",
   "execution_count": 23,
   "metadata": {},
   "outputs": [
    {
     "name": "stdout",
     "output_type": "stream",
     "text": [
      "['Neurological', 'Cancer', 'Ophthamological', 'Renal', 'Metabolic', 'Cardiovascular', 'Ear,Nose,Throat', 'multiple', 'Hematological', 'Gastrointestinal', 'Immunological', 'Respiratory', 'Psychiatric', 'Connective tissue disorder', 'Muscular', 'Nutritional', 'Dermatological', 'Unclassified', 'Endocrine', 'Skeletal', 'Developmental', 'Bone', 'Connective tissue']\n"
     ]
    }
   ],
   "source": [
    "unique_class = list(df[\"Class\"].drop_duplicates())\n",
    "print(unique_class)"
   ]
  },
  {
   "cell_type": "code",
   "execution_count": 10,
   "metadata": {},
   "outputs": [
    {
     "data": {
      "text/html": [
       "<div>\n",
       "<style scoped>\n",
       "    .dataframe tbody tr th:only-of-type {\n",
       "        vertical-align: middle;\n",
       "    }\n",
       "\n",
       "    .dataframe tbody tr th {\n",
       "        vertical-align: top;\n",
       "    }\n",
       "\n",
       "    .dataframe thead th {\n",
       "        text-align: right;\n",
       "    }\n",
       "</style>\n",
       "<table border=\"1\" class=\"dataframe\">\n",
       "  <thead>\n",
       "    <tr style=\"text-align: right;\">\n",
       "      <th></th>\n",
       "      <th># Disease ID</th>\n",
       "      <th>Disorder name</th>\n",
       "      <th>Gene symbols</th>\n",
       "      <th>OMIM ID</th>\n",
       "      <th>Chromosome</th>\n",
       "      <th>Class</th>\n",
       "      <th>2005 Entrez_ID</th>\n",
       "      <th>in largest Comp.</th>\n",
       "      <th>i</th>\n",
       "      <th>mu</th>\n",
       "    </tr>\n",
       "  </thead>\n",
       "  <tbody>\n",
       "    <tr>\n",
       "      <th>0</th>\n",
       "      <td>1428</td>\n",
       "      <td>Spinocerebellar ataxia 14, 605361 (3)</td>\n",
       "      <td>PRKCG, PKCC, PKCG, SCA14</td>\n",
       "      <td>176980</td>\n",
       "      <td>19q13.4</td>\n",
       "      <td>Neurological</td>\n",
       "      <td>5582</td>\n",
       "      <td>1</td>\n",
       "      <td>0</td>\n",
       "      <td>0</td>\n",
       "    </tr>\n",
       "    <tr>\n",
       "      <th>1</th>\n",
       "      <td>1428</td>\n",
       "      <td>Spinocerebellar ataxia 4, pure Japanese type, ...</td>\n",
       "      <td>PLEKHG4</td>\n",
       "      <td>609526</td>\n",
       "      <td>16q22.1</td>\n",
       "      <td>Neurological</td>\n",
       "      <td>25894</td>\n",
       "      <td>1</td>\n",
       "      <td>0</td>\n",
       "      <td>542</td>\n",
       "    </tr>\n",
       "    <tr>\n",
       "      <th>2</th>\n",
       "      <td>1428</td>\n",
       "      <td>Spinocerebellar ataxia-27, 609307 (3)</td>\n",
       "      <td>FGF14, FHF4, SCA27</td>\n",
       "      <td>601515</td>\n",
       "      <td>13q34</td>\n",
       "      <td>Neurological</td>\n",
       "      <td>2259</td>\n",
       "      <td>1</td>\n",
       "      <td>0</td>\n",
       "      <td>548</td>\n",
       "    </tr>\n",
       "    <tr>\n",
       "      <th>3</th>\n",
       "      <td>1428</td>\n",
       "      <td>Spinocerebellar ataxia-6, 183086 (3)</td>\n",
       "      <td>CACNA1A, CACNL1A4, SCA6</td>\n",
       "      <td>601011</td>\n",
       "      <td>19p13</td>\n",
       "      <td>Neurological</td>\n",
       "      <td>773</td>\n",
       "      <td>1</td>\n",
       "      <td>0</td>\n",
       "      <td>583</td>\n",
       "    </tr>\n",
       "    <tr>\n",
       "      <th>4</th>\n",
       "      <td>1428</td>\n",
       "      <td>Spinocerebellar ataxia 12, 604326 (3)</td>\n",
       "      <td>PPP2R2B</td>\n",
       "      <td>604325</td>\n",
       "      <td>5q31-q33</td>\n",
       "      <td>Neurological</td>\n",
       "      <td>5521</td>\n",
       "      <td>1</td>\n",
       "      <td>0</td>\n",
       "      <td>799</td>\n",
       "    </tr>\n",
       "  </tbody>\n",
       "</table>\n",
       "</div>"
      ],
      "text/plain": [
       "   # Disease ID                                      Disorder name  \\\n",
       "0          1428              Spinocerebellar ataxia 14, 605361 (3)   \n",
       "1          1428  Spinocerebellar ataxia 4, pure Japanese type, ...   \n",
       "2          1428              Spinocerebellar ataxia-27, 609307 (3)   \n",
       "3          1428               Spinocerebellar ataxia-6, 183086 (3)   \n",
       "4          1428              Spinocerebellar ataxia 12, 604326 (3)   \n",
       "\n",
       "               Gene symbols  OMIM ID Chromosome         Class  2005 Entrez_ID  \\\n",
       "0  PRKCG, PKCC, PKCG, SCA14   176980    19q13.4  Neurological            5582   \n",
       "1                   PLEKHG4   609526    16q22.1  Neurological           25894   \n",
       "2        FGF14, FHF4, SCA27   601515      13q34  Neurological            2259   \n",
       "3   CACNA1A, CACNL1A4, SCA6   601011      19p13  Neurological             773   \n",
       "4                   PPP2R2B   604325   5q31-q33  Neurological            5521   \n",
       "\n",
       "  in largest Comp.  i   mu  \n",
       "0                1  0    0  \n",
       "1                1  0  542  \n",
       "2                1  0  548  \n",
       "3                1  0  583  \n",
       "4                1  0  799  "
      ]
     },
     "execution_count": 10,
     "metadata": {},
     "output_type": "execute_result"
    }
   ],
   "source": [
    "df.head()"
   ]
  },
  {
   "cell_type": "code",
   "execution_count": 11,
   "metadata": {},
   "outputs": [
    {
     "name": "stderr",
     "output_type": "stream",
     "text": [
      "/anaconda3/lib/python3.7/site-packages/networkx/drawing/nx_pylab.py:611: MatplotlibDeprecationWarning: isinstance(..., numbers.Number)\n",
      "  if cb.is_numlike(alpha):\n"
     ]
    },
    {
     "data": {
      "image/png": "[encoded data removed]",
      "text/plain": [
       "<Figure size 432x288 with 1 Axes>"
      ]
     },
     "metadata": {},
     "output_type": "display_data"
    }
   ],
   "source": [
    "nx.draw_spring(G, with_labels=False, node_size = 1) # draw it pretty\n",
    "plt.show()"
   ]
  },
  {
   "cell_type": "code",
   "execution_count": null,
   "metadata": {},
   "outputs": [],
   "source": [
    "# get a unique list of classes\n",
    "df_class = list(df[\"Class\"].drop_duplicates())\n",
    "classes = {}\n",
    "colors = ['#9FC2CC']\n",
    "c = 1\n",
    "for i in df_class:\n",
    "    colors.append('#%06X' % randint(0, 0xFFFFFF))\n",
    "    classes[i] = c\n",
    "    c = c+1\n",
    "Z_gd = [] #disease is 1 and gene is 0\n",
    "Z_c = []\n",
    "bi_graph_colors = []\n",
    "G = nx.Graph()\n",
    "for index, row in df.iterrows():\n",
    "    if not G.has_node(row['# Disease ID']):\n",
    "        G.add_node(row['# Disease ID'], Type='disease', Class = row['Class'], Disorder = row['Disorder name'])\n",
    "        bi_graph_colors.append(colors[classes[row['Class']]])\n",
    "        Z_gd.append(1)\n",
    "    for i in row['Gene symbols'].split(\", \"): #iterate\n",
    "        #if hasnt been added already\n",
    "        if not G.has_node(i):\n",
    "            G.add_node(i, Type = 'gene', Class = row['Class'])\n",
    "            bi_graph_colors.append(colors[0])\n",
    "            Z_gd.append(0)\n",
    "            \n",
    "        if G.node[i]['Class'] != row['Class']:\n",
    "            G.node[i]['Class'] = \"multiple\"\n",
    "            \n",
    "        G.add_edge(row['# Disease ID'], i)\n",
    "        "
   ]
  },
  {
   "cell_type": "markdown",
   "metadata": {},
   "source": [
    "### Bipartite Representation"
   ]
  },
  {
   "cell_type": "code",
   "execution_count": null,
   "metadata": {},
   "outputs": [],
   "source": [
    "plt.figure(figsize=(15,15))\n",
    "nx.draw_spring(largestComponent(G), with_labels=False, node_size = 2, node_color = bi_graph_colors) # draw it pretty\n",
    "plt.show()"
   ]
  },
  {
   "cell_type": "code",
   "execution_count": 24,
   "metadata": {},
   "outputs": [
    {
     "ename": "KeyError",
     "evalue": "'Type'",
     "output_type": "error",
     "traceback": [
      "\u001b[0;31m---------------------------------------------------------------------------\u001b[0m",
      "\u001b[0;31mKeyError\u001b[0m                                  Traceback (most recent call last)",
      "\u001b[0;32m<ipython-input-24-bc614a854c3a>\u001b[0m in \u001b[0;36m<module>\u001b[0;34m\u001b[0m\n\u001b[1;32m      1\u001b[0m \u001b[0;31m# test out\u001b[0m\u001b[0;34m\u001b[0m\u001b[0;34m\u001b[0m\u001b[0;34m\u001b[0m\u001b[0m\n\u001b[0;32m----> 2\u001b[0;31m \u001b[0mG_disease\u001b[0m \u001b[0;34m=\u001b[0m \u001b[0mseperateType\u001b[0m\u001b[0;34m(\u001b[0m\u001b[0mG\u001b[0m\u001b[0;34m,\u001b[0m\u001b[0;34m'disease'\u001b[0m\u001b[0;34m)\u001b[0m\u001b[0;34m\u001b[0m\u001b[0;34m\u001b[0m\u001b[0m\n\u001b[0m\u001b[1;32m      3\u001b[0m \u001b[0mG_gene\u001b[0m \u001b[0;34m=\u001b[0m \u001b[0mseperateType\u001b[0m\u001b[0;34m(\u001b[0m\u001b[0mG\u001b[0m\u001b[0;34m,\u001b[0m\u001b[0;34m'gene'\u001b[0m\u001b[0;34m)\u001b[0m\u001b[0;34m\u001b[0m\u001b[0;34m\u001b[0m\u001b[0m\n",
      "\u001b[0;32m<ipython-input-15-f1e81cb0fcb8>\u001b[0m in \u001b[0;36mseperateType\u001b[0;34m(Go, IsolateType)\u001b[0m\n\u001b[1;32m      6\u001b[0m \u001b[0;34m\u001b[0m\u001b[0m\n\u001b[1;32m      7\u001b[0m     \u001b[0;32mfor\u001b[0m \u001b[0mi\u001b[0m \u001b[0;32min\u001b[0m \u001b[0mGo\u001b[0m\u001b[0;34m.\u001b[0m\u001b[0mnodes\u001b[0m\u001b[0;34m(\u001b[0m\u001b[0;34m)\u001b[0m\u001b[0;34m:\u001b[0m \u001b[0;31m#create edge between i and p, where p is the nodes that i -> other group -> p\u001b[0m\u001b[0;34m\u001b[0m\u001b[0;34m\u001b[0m\u001b[0m\n\u001b[0;32m----> 8\u001b[0;31m         \u001b[0;32mif\u001b[0m \u001b[0mGo\u001b[0m\u001b[0;34m.\u001b[0m\u001b[0mnode\u001b[0m\u001b[0;34m[\u001b[0m\u001b[0mi\u001b[0m\u001b[0;34m]\u001b[0m\u001b[0;34m[\u001b[0m\u001b[0;34m'Type'\u001b[0m\u001b[0;34m]\u001b[0m \u001b[0;34m==\u001b[0m \u001b[0mIsolateType\u001b[0m\u001b[0;34m:\u001b[0m \u001b[0;31m#if type we want\u001b[0m\u001b[0;34m\u001b[0m\u001b[0;34m\u001b[0m\u001b[0m\n\u001b[0m\u001b[1;32m      9\u001b[0m \u001b[0;34m\u001b[0m\u001b[0m\n\u001b[1;32m     10\u001b[0m             \u001b[0mneighbors\u001b[0m \u001b[0;34m=\u001b[0m \u001b[0mlist\u001b[0m\u001b[0;34m(\u001b[0m\u001b[0mGo\u001b[0m\u001b[0;34m.\u001b[0m\u001b[0mneighbors\u001b[0m\u001b[0;34m(\u001b[0m\u001b[0mi\u001b[0m\u001b[0;34m)\u001b[0m\u001b[0;34m)\u001b[0m\u001b[0;31m#make list of neighbors\u001b[0m\u001b[0;34m\u001b[0m\u001b[0;34m\u001b[0m\u001b[0m\n",
      "\u001b[0;31mKeyError\u001b[0m: 'Type'"
     ]
    }
   ],
   "source": [
    "# test out\n",
    "G_disease = seperateType(G,'disease')\n",
    "G_gene = seperateType(G,'gene')"
   ]
  },
  {
   "cell_type": "code",
   "execution_count": null,
   "metadata": {},
   "outputs": [],
   "source": [
    "plot_graph(G_disease,\"Class\")"
   ]
  },
  {
   "cell_type": "code",
   "execution_count": null,
   "metadata": {},
   "outputs": [],
   "source": [
    "plot_graph(remove_singletons(G_disease),\"Class\") "
   ]
  },
  {
   "cell_type": "code",
   "execution_count": null,
   "metadata": {},
   "outputs": [],
   "source": [
    "plot_graph(largestComponent(G_gene),\"Class\", all_connected = False)"
   ]
  },
  {
   "cell_type": "code",
   "execution_count": null,
   "metadata": {},
   "outputs": [],
   "source": [
    "largestComponent(G_disease).size()"
   ]
  },
  {
   "cell_type": "code",
   "execution_count": null,
   "metadata": {},
   "outputs": [],
   "source": [
    "plt.figure(figsize=(15,15))\n",
    "nx.draw_spring(G_gene, with_labels=False,  node_color = get_graph_colors(G_gene, \"Type\"), node_size = 10) # draw it pretty\n",
    "plt.show()"
   ]
  },
  {
   "cell_type": "code",
   "execution_count": null,
   "metadata": {},
   "outputs": [],
   "source": [
    "### GENERAL ANALYSIS\n",
    "\n",
    "def plotDegsCCDF(Go):\n",
    "    # tabulate and display the CCDF Pr(K>=k)\n",
    "    degrees = Go.degree()\n",
    "    kmax    = 0\n",
    "    kis     = []\n",
    "    for _,ki in degrees:\n",
    "        kis.append(ki)\n",
    "        if ki > kmax: kmax = ki\n",
    "\n",
    "    counts, bins = np.histogram(kis, bins=[i for i in range(kmax+2)], density=True)\n",
    "    cumcounts = np.cumsum(counts)\n",
    "    cumcounts = np.insert(cumcounts,0,0)\n",
    "    plt.loglog(bins[1:-1], 1-cumcounts[1:-1], 'rs', alpha=0.5)\n",
    "    plt.xlabel('Degree, k')\n",
    "    plt.ylabel('Pr(K>=k)')\n",
    "    plt.show()\n",
    "    return\n",
    "\n",
    "def calculate_MeanGeodesic(Go):\n",
    "    n = Go.number_of_nodes()#function for number of nodes\n",
    "    m = Go.size() #function for number of edges\n",
    "\n",
    "    dij = dict(nx.all_pairs_shortest_path_length(Go)) # APSP on G, store as a dictionary (tricky :)\n",
    "    mean_geo_path_per_Node = [] # store average path length from any given nodes\n",
    "    for i in dij.values(): #iterate through each dict of shortest pathes per node\n",
    "        node = []\n",
    "        for x in i.values(): #iterate through shortest pathes for each node\n",
    "            if x != 0: # if path length doesn't equal zero then append to shortest pathes\n",
    "                node.append(x)\n",
    "        if len(node)!=0: #if node has any nodes attached then find the mean shortest path and add to list of all nodes\n",
    "            mean_geo_path_per_Node.append(np.mean(node))\n",
    "    ellmean = np.mean(mean_geo_path_per_Node)#add mean of graph to ellms array\n",
    "    return ellmean\n",
    "\n",
    "def summarystats(Go):\n",
    "    n = Go.number_of_nodes()#function for number of nodes\n",
    "    m = Go.size() #function for number of edges\n",
    "    kmean = m*2/n #mean of in directed degree is edges/number of nodes\n",
    "    ellmean = calculate_MeanGeodesic(Go)\n",
    "    C = nx.transitivity(Go)# C \n",
    "\n",
    "    print(f'number of nodes, n  = {n}')\n",
    "    print(f'number of edges, m  = {m}')\n",
    "    print(f'mean degree,    <k> = %5.2f' % kmean)\n",
    "    print(f'mean geodesic distance, <ell> = %5.2f' % ellmean)\n",
    "    print(f'clustering coefficient, C     = %5.2f' % C)"
   ]
  },
  {
   "cell_type": "code",
   "execution_count": null,
   "metadata": {},
   "outputs": [],
   "source": [
    "summarystats(G_disease)"
   ]
  },
  {
   "cell_type": "code",
   "execution_count": null,
   "metadata": {},
   "outputs": [],
   "source": [
    "summarystats(G_gene)"
   ]
  },
  {
   "cell_type": "code",
   "execution_count": null,
   "metadata": {},
   "outputs": [],
   "source": [
    "summarystats(G)"
   ]
  },
  {
   "cell_type": "code",
   "execution_count": null,
   "metadata": {},
   "outputs": [],
   "source": [
    "plotDegsCCDF(G)"
   ]
  },
  {
   "cell_type": "code",
   "execution_count": null,
   "metadata": {},
   "outputs": [],
   "source": []
  }
 ],
 "metadata": {
  "kernelspec": {
   "display_name": "Python 3",
   "language": "python",
   "name": "python3"
  }
 },
 "nbformat": 4,
 "nbformat_minor": 2
}
