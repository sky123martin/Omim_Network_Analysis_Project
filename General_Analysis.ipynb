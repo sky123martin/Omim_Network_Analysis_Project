{
 "cells": [
  {
   "cell_type": "code",
   "execution_count": 17,
   "metadata": {},
   "outputs": [],
   "source": [
    "import networkx as nx\n",
    "import pandas as pd\n",
    "import matplotlib.pylab as plt\n",
    "from networkx.algorithms import bipartite\n",
    "import numpy as np\n"
   ]
  },
  {
   "cell_type": "code",
   "execution_count": 18,
   "metadata": {},
   "outputs": [],
   "source": [
    "df = pd.read_csv(\"morbidmap.txt\",sep='\\t')\n",
    "df.head()\n",
    "G = nx.Graph()\n",
    "\n",
    "c = 0\n",
    "colors = ['#d61111','#11c6d6']\n",
    "list_of_colors = []\n",
    "disease_list = []\n",
    "for index, row in df.iterrows():\n",
    "    if isinstance(row['Gene Symbols'], str):\n",
    "        \n",
    "        G.add_node(row['# Phenotype'], attr_dict={'type':'disease'})\n",
    "        disease_list.append(row['# Phenotype'])\n",
    "        list_of_colors.append(colors[0])\n",
    "        \n",
    "        list_ = row['Gene Symbols'].split(\", \")\n",
    "        \n",
    "        for i in list_:\n",
    "            if not G.has_node(i):\n",
    "                G.add_node(i,attr_dict={'type':'gene'})\n",
    "                list_of_colors.append(colors[1])\n",
    "            G.add_edge(row['# Phenotype'], i)\n",
    "#     if c >10000:\n",
    "#         break\n",
    "#     else:\n",
    "#         c = c+1"
   ]
  },
  {
   "cell_type": "code",
   "execution_count": 19,
   "metadata": {},
   "outputs": [],
   "source": [
    "# nx.draw_circular(G,node_color = list_of_colors, with_labels=False, node_size = 5) # draw it pretty\n",
    "# plt.show()"
   ]
  },
  {
   "cell_type": "code",
   "execution_count": 20,
   "metadata": {},
   "outputs": [],
   "source": [
    "# nx.draw_spring(G,node_color = list_of_colors, with_labels=False, node_size = 5) # draw it pretty\n",
    "# plt.show()"
   ]
  },
  {
   "cell_type": "code",
   "execution_count": 21,
   "metadata": {},
   "outputs": [],
   "source": [
    "# G_diseases = bipartite.projected_graph(G, disease_list, multigraph=True)\n",
    "# nx.draw_spring(G_diseases, with_labels=False, node_size = 10) # draw it pretty"
   ]
  },
  {
   "cell_type": "code",
   "execution_count": 22,
   "metadata": {},
   "outputs": [],
   "source": [
    "def plotDegsCCDF(degrees):\n",
    "    # tabulate and display the CCDF Pr(K>=k)\n",
    "    kmax    = 0\n",
    "    kis     = []\n",
    "    for _,ki in degrees:\n",
    "        kis.append(ki)\n",
    "        if ki > kmax: kmax = ki\n",
    "\n",
    "    counts, bins = np.histogram(kis, bins=[i for i in range(kmax+2)], density=True)\n",
    "    cumcounts = np.cumsum(counts)\n",
    "    cumcounts = np.insert(cumcounts,0,0)\n",
    "    plt.loglog(bins[1:-1], 1-cumcounts[1:-1], 'rs', alpha=0.5)\n",
    "    plt.xlabel('Degree, k')\n",
    "    plt.ylabel('Pr(K>=k)')\n",
    "    plt.show()\n",
    "    return\n",
    "\n",
    "def calculate_MeanGeodesic(Go):\n",
    "    n = Go.number_of_nodes()#function for number of nodes\n",
    "    m = Go.size() #function for number of edges\n",
    "\n",
    "    dij = dict(nx.all_pairs_shortest_path_length(Go)) # APSP on G, store as a dictionary (tricky :)\n",
    "    mean_geo_path_per_Node = [] # store average path length from any given nodes\n",
    "    for i in dij.values(): #iterate through each dict of shortest pathes per node\n",
    "        node = []\n",
    "        for x in i.values(): #iterate through shortest pathes for each node\n",
    "            if x != 0: # if path length doesn't equal zero then append to shortest pathes\n",
    "                node.append(x)\n",
    "        if len(node)!=0: #if node has any nodes attached then find the mean shortest path and add to list of all nodes\n",
    "            mean_geo_path_per_Node.append(np.mean(node))\n",
    "    ellmean = np.mean(mean_geo_path_per_Node)#add mean of graph to ellms array\n",
    "    return ellmean\n",
    "\n",
    "def summarystats(Go):\n",
    "    n = Go.number_of_nodes()#function for number of nodes\n",
    "    m = Go.size() #function for number of edges\n",
    "    kmean = m*2/n #mean of in directed degree is edges/number of nodes\n",
    "    ellmean = calculate_MeanGeodesic(Go)\n",
    "    C = nx.transitivity(Go)# C \n",
    "\n",
    "    print(f'number of nodes, n  = {n}')\n",
    "    print(f'number of edges, m  = {m}')\n",
    "    print(f'mean degree,    <k> = %5.2f' % kmean)\n",
    "    print(f'mean geodesic distance, <ell> = %5.2f' % ellmean)\n",
    "    print(f'clustering coefficient, C     = %5.2f' % C)"
   ]
  },
  {
   "cell_type": "code",
   "execution_count": 23,
   "metadata": {},
   "outputs": [
    {
     "name": "stdout",
     "output_type": "stream",
     "text": [
      "number of nodes, n  = 21733\n",
      "number of edges, m  = 24398\n",
      "mean degree,    <k> =  2.25\n",
      "mean geodesic distance, <ell> =  1.67\n",
      "clustering coefficient, C     =  0.00\n"
     ]
    }
   ],
   "source": [
    "summarystats(G)"
   ]
  },
  {
   "cell_type": "code",
   "execution_count": 25,
   "metadata": {},
   "outputs": [
    {
     "data": {
      "image/png": "[encoded data removed]",
      "text/plain": [
       "<Figure size 432x288 with 1 Axes>"
      ]
     },
     "metadata": {
      "needs_background": "light"
     },
     "output_type": "display_data"
    }
   ],
   "source": [
    "plotDegsCCDF(G.degree())"
   ]
  },
  {
   "cell_type": "code",
   "execution_count": null,
   "metadata": {},
   "outputs": [],
   "source": []
  },
  {
   "cell_type": "code",
   "execution_count": null,
   "metadata": {},
   "outputs": [],
   "source": []
  },
  {
   "cell_type": "code",
   "execution_count": null,
   "metadata": {},
   "outputs": [],
   "source": []
  }
 ],
 "metadata": {
  "kernelspec": {
   "display_name": "Python 3",
   "language": "python",
   "name": "python3"
  },
  "language_info": {
   "codemirror_mode": {
    "name": "ipython",
    "version": 3
   },
   "file_extension": ".py",
   "mimetype": "text/x-python",
   "name": "python",
   "nbconvert_exporter": "python",
   "pygments_lexer": "ipython3",
   "version": "3.7.1"
  }
 },
 "nbformat": 4,
 "nbformat_minor": 2
}
